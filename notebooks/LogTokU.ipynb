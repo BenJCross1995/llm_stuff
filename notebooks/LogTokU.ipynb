{
 "cells": [
  {
   "cell_type": "markdown",
   "id": "b109052f-6465-4e71-a5dd-044e036e820f",
   "metadata": {},
   "source": [
    "# LogTokU\n",
    "\n",
    "This notebook replicates the LogTokU method of measuring the uncertainty behind LLM responses, as discussed in the paper [Estimating LLM Uncertainty with Evidence](https://arxiv.org/abs/2502.00290) by Ma et al. (2025)."
   ]
  },
  {
   "cell_type": "code",
   "execution_count": null,
   "id": "bd59120e-23a0-4707-8f2b-2fc6546f5687",
   "metadata": {},
   "outputs": [],
   "source": []
  }
 ],
 "metadata": {
  "kernelspec": {
   "display_name": "av_dists",
   "language": "python",
   "name": "av_dists"
  },
  "language_info": {
   "codemirror_mode": {
    "name": "ipython",
    "version": 3
   },
   "file_extension": ".py",
   "mimetype": "text/x-python",
   "name": "python",
   "nbconvert_exporter": "python",
   "pygments_lexer": "ipython3",
   "version": "3.12.7"
  }
 },
 "nbformat": 4,
 "nbformat_minor": 5
}
